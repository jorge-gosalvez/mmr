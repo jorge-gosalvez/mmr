{
 "cells": [
  {
   "cell_type": "code",
   "execution_count": 1,
   "id": "4ebd29ea-1a4a-49e5-be44-80c6f76f4b5c",
   "metadata": {},
   "outputs": [
    {
     "name": "stdout",
     "output_type": "stream",
     "text": [
      "Hi Matt\n"
     ]
    }
   ],
   "source": [
    "print(\"Hi Matt\")"
   ]
  },
  {
   "cell_type": "code",
   "execution_count": 1,
   "id": "6cb9e234-47a7-4217-b33b-2546b8b09beb",
   "metadata": {},
   "outputs": [],
   "source": [
    "import seaborn"
   ]
  },
  {
   "cell_type": "code",
   "execution_count": null,
   "id": "5f419247-fce4-41b9-85c6-c7bd4763dc9c",
   "metadata": {},
   "outputs": [],
   "source": []
  }
 ],
 "metadata": {
  "kernelspec": {
   "display_name": "Python 3 (ipykernel)",
   "language": "python",
   "name": "python3"
  },
  "language_info": {
   "codemirror_mode": {
    "name": "ipython",
    "version": 3
   },
   "file_extension": ".py",
   "mimetype": "text/x-python",
   "name": "python",
   "nbconvert_exporter": "python",
   "pygments_lexer": "ipython3",
   "version": "3.10.11"
  }
 },
 "nbformat": 4,
 "nbformat_minor": 5
}
